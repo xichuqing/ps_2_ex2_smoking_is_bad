{
 "cells": [
  {
   "cell_type": "markdown",
   "metadata": {},
   "source": [
    "# Smoking is bad"
   ]
  },
  {
   "cell_type": "code",
   "execution_count": null,
   "metadata": {},
   "outputs": [],
   "source": [
    "# TODO: install all the necessary packages\n",
    "import pandas as pd\n",
    "import numpy as np\n",
    "import matplotlib.pyplot as plt\n",
    "import seaborn as sns\n",
    "from pathlib import Path"
   ]
  },
  {
   "cell_type": "code",
   "execution_count": null,
   "metadata": {},
   "outputs": [],
   "source": [
    "# TODO: load the data using the pathlib library to create the path to your data\n",
    "data_path = Path(\"data/smoking_data.csv\")  # Update with your actual file path\n",
    "df = pd.read_csv(data_path)\n",
    "print(df.head())"
   ]
  },
  {
   "cell_type": "code",
   "execution_count": null,
   "metadata": {},
   "outputs": [],
   "source": [
    "# TODO: what are the dimensions of the data frame?\n",
    "dimensions = df.shape\n",
    "print(f\"The data frame has {dimensions[0]} rows and {dimensions[1]} columns.\")"
   ]
  },
  {
   "cell_type": "code",
   "execution_count": null,
   "metadata": {},
   "outputs": [],
   "source": [
    "# TODO: use .describe() on your data frame: what do you notice about the string columns?\n",
    "description = df.describe(include='all')\n",
    "print(description)"
   ]
  },
  {
   "cell_type": "code",
   "execution_count": null,
   "metadata": {},
   "outputs": [],
   "source": [
    "# TODO: do not forget to check the null values\n",
    "null_values = df.isnull().sum()\n",
    "print(\"Null values in each column:\")\n",
    "print(null_values)"
   ]
  },
  {
   "cell_type": "code",
   "execution_count": null,
   "metadata": {},
   "outputs": [],
   "source": [
    "# TODO: prepare your data frame so that you can work with\n",
    "df['Alive_binary'] = df['outcome'].apply(lambda x: 1 if x == 'Alive' else 0)"
   ]
  },
  {
   "cell_type": "markdown",
   "metadata": {},
   "source": [
    "## Smoking analysis\n",
    "Let's first check what your cousin did."
   ]
  },
  {
   "cell_type": "code",
   "execution_count": null,
   "metadata": {},
   "outputs": [],
   "source": [
    "# TODO: Reimplement the small code snippet described in the problem set instructions.\n",
    "df1 = df.groupby([\"smoker\"]).agg(prob=(\"Alive_binary\", np.mean))\n",
    "print(df1.head())\n"
   ]
  },
  {
   "cell_type": "markdown",
   "metadata": {},
   "source": [
    "You should get the same results."
   ]
  },
  {
   "cell_type": "markdown",
   "metadata": {},
   "source": [
    "# Is smoking really good?\n",
    "Now it is up to you to run the analysis further and check what could be underlying your cousings results."
   ]
  },
  {
   "cell_type": "code",
   "execution_count": null,
   "metadata": {},
   "outputs": [],
   "source": [
    "plt.figure(figsize=(12, 6))\n",
    "sns.histplot(data=df, x=\"age\", hue=\"smoker\", kde= True, bins=30, palette=\"Set2\")\n",
    "plt.xlabel(\"Age\")\n",
    "plt.ylabel(\"Frequency\")\n",
    "plt.title(\"Age Distribution by Smoking Status\")\n",
    "plt.show()\n",
    "\n",
    "sns.countplot(data=df, x=\"gender\", hue = \"smoker\", palette=\"Set2\")\n",
    "# Label the axes and give the plot a title\n",
    "plt.xlabel(\"Gender\")\n",
    "plt.ylabel(\"Count\")\n",
    "plt.title(\"Gender Distribution\")"
   ]
  },
  {
   "cell_type": "code",
   "execution_count": null,
   "metadata": {},
   "outputs": [],
   "source": [
    "plt.figure(figsize=(12, 6))\n",
    "sns.histplot(data=df, x=\"age\", hue=\"outcome\", kde= True, bins=30, palette=\"Set2\")\n",
    "plt.xlabel(\"outcome\")\n",
    "plt.ylabel(\"Frequency\")\n",
    "plt.title(\"Life Status by age\")\n",
    "plt.show()"
   ]
  },
  {
   "cell_type": "markdown",
   "metadata": {},
   "source": [
    "As can be seen in the figures above, whether to smoke or not also depends on age and gender. It is worth to mention the people with higher age have less possibility to smoke and higher possibility to be dead. Thus this may cause the bias in the result of the probability of survival, it is hard to make conclusion only depends on the probability table the cousin showed."
   ]
  }
 ],
 "metadata": {
  "kernelspec": {
   "display_name": "smoke",
   "language": "python",
   "name": "python3"
  },
  "language_info": {
   "codemirror_mode": {
    "name": "ipython",
    "version": 3
   },
   "file_extension": ".py",
   "mimetype": "text/x-python",
   "name": "python",
   "nbconvert_exporter": "python",
   "pygments_lexer": "ipython3",
   "version": "3.9.20"
  }
 },
 "nbformat": 4,
 "nbformat_minor": 2
}
